{
 "cells": [
  {
   "cell_type": "code",
   "execution_count": null,
   "id": "6febe163-9721-4b15-8266-2a27e361d37d",
   "metadata": {},
   "outputs": [],
   "source": [
    "%load_ext autoreload\n",
    "%autoreload 2"
   ]
  },
  {
   "cell_type": "markdown",
   "id": "3fb72158-9c27-4551-b03d-7d621714b399",
   "metadata": {},
   "source": [
    "# Load Datasets\n",
    "\n",
    "> The functions in this notebook load datasets that can be used to test the presented procedures of this package."
   ]
  },
  {
   "cell_type": "code",
   "execution_count": null,
   "id": "9288a302-2d75-4fc4-b221-705f86345a56",
   "metadata": {},
   "outputs": [],
   "source": [
    "#| default_exp loadData"
   ]
  },
  {
   "cell_type": "code",
   "execution_count": 1,
   "id": "ddf1e3ed-8793-4e8d-bead-c0a21bb3e8da",
   "metadata": {},
   "outputs": [],
   "source": [
    "#| export\n",
    "from __future__ import annotations\n",
    "from fastcore.docments import *\n",
    "from fastcore.test import *\n",
    "from fastcore.utils import *\n",
    "\n",
    "import pandas as pd\n",
    "import numpy as np\n",
    "\n",
    "import pkg_resources"
   ]
  },
  {
   "cell_type": "markdown",
   "id": "100e8d9a-ded5-41d3-ab9e-c75da5622479",
   "metadata": {},
   "source": [
    "## Yaz"
   ]
  },
  {
   "cell_type": "code",
   "execution_count": null,
   "id": "1d990c32-6daa-4ed1-a03d-f61597a28122",
   "metadata": {},
   "outputs": [],
   "source": [
    "#| export\n",
    "\n",
    "def loadDataYaz(returnXY = True):\n",
    "    \n",
    "    dataPath = pkg_resources.resource_stream(__name__, 'datasets/dataYaz.csv')\n",
    "    data = pd.read_csv(dataPath)\n",
    "    \n",
    "    #---\n",
    "    \n",
    "    if returnXY:       \n",
    "        X = np.array(data.drop(['demand', 'label', 'id'], axis = 1))\n",
    "        y = np.ravel(data['demand'])\n",
    "\n",
    "        XTrain = X[data['label'] == 'train']\n",
    "        yTrain = y[data['label'] == 'train']\n",
    "\n",
    "        XTest = X[data['label'] == 'test']\n",
    "        yTest = y[data['label'] == 'test']\n",
    "        \n",
    "        return data, XTrain, yTrain, XTest, yTest\n",
    "        \n",
    "    else:\n",
    "        return data    \n",
    "    "
   ]
  },
  {
   "cell_type": "code",
   "execution_count": null,
   "id": "ba747cf3-2c08-405b-8f1a-ab7595d5e933",
   "metadata": {},
   "outputs": [],
   "source": [
    "#| export\n",
    "\n",
    "def loadDataYaz_multivariate(returnXY = True):\n",
    "    \n",
    "    dataPath = pkg_resources.resource_stream(__name__, 'datasets/dataYaz_multivariate.csv')\n",
    "    data = pd.read_csv(dataPath)\n",
    "    \n",
    "    #---\n",
    "    \n",
    "    if returnXY:       \n",
    "        X = np.array(data.drop(['demand', 'label'], axis = 1))\n",
    "        y = np.ravel(data['demand'])\n",
    "\n",
    "        XTrain = X[data['label'] == 'train']\n",
    "        yTrain = y[data['label'] == 'train']\n",
    "\n",
    "        XTest = X[data['label'] == 'test']\n",
    "        yTest = y[data['label'] == 'test']\n",
    "        \n",
    "        return data, XTrain, yTrain, XTest, yTest\n",
    "        \n",
    "    else:\n",
    "        return data   "
   ]
  },
  {
   "cell_type": "markdown",
   "id": "6ee582b6-4722-4783-8b3f-13608866ea7d",
   "metadata": {},
   "source": [
    "## Bakery"
   ]
  },
  {
   "cell_type": "code",
   "execution_count": null,
   "id": "7357ccde-bee0-4eb1-876b-e9f3bd281d47",
   "metadata": {},
   "outputs": [],
   "source": [
    "#| export\n",
    "\n",
    "def loadDataBakery(returnXY = True):\n",
    "    \n",
    "    dataPath = pkg_resources.resource_stream(__name__, 'datasets/dataBakery.csv')\n",
    "    data = pd.read_csv(dataPath)\n",
    "    \n",
    "    #---\n",
    "    \n",
    "    if returnXY:       \n",
    "        X = np.array(data.drop(['demand', 'label', 'id', 'date'], axis = 1))\n",
    "        y = np.ravel(data['demand'])\n",
    "\n",
    "        XTrain = X[data['label'] == 'train']\n",
    "        yTrain = y[data['label'] == 'train']\n",
    "\n",
    "        XTest = X[data['label'] == 'test']\n",
    "        yTest = y[data['label'] == 'test']\n",
    "        \n",
    "        return data, XTrain, yTrain, XTest, yTest\n",
    "        \n",
    "    else:\n",
    "        return data    \n",
    "    "
   ]
  }
 ],
 "metadata": {
  "kernelspec": {
   "display_name": "dddex",
   "language": "python",
   "name": "dddex"
  },
  "language_info": {
   "codemirror_mode": {
    "name": "ipython",
    "version": 3
   },
   "file_extension": ".py",
   "mimetype": "text/x-python",
   "name": "python",
   "nbconvert_exporter": "python",
   "pygments_lexer": "ipython3",
   "version": "3.8.15"
  }
 },
 "nbformat": 4,
 "nbformat_minor": 5
}
